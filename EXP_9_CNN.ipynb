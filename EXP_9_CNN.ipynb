{
  "nbformat": 4,
  "nbformat_minor": 0,
  "metadata": {
    "colab": {
      "provenance": [],
      "authorship_tag": "ABX9TyPbpncOSCQrklJa7DOUSScB",
      "include_colab_link": true
    },
    "kernelspec": {
      "name": "python3",
      "display_name": "Python 3"
    },
    "language_info": {
      "name": "python"
    }
  },
  "cells": [
    {
      "cell_type": "markdown",
      "metadata": {
        "id": "view-in-github",
        "colab_type": "text"
      },
      "source": [
        "<a href=\"https://colab.research.google.com/github/09-07-2003/ADVANCED-DL-EXPS/blob/main/EXP_9_CNN.ipynb\" target=\"_parent\"><img src=\"https://colab.research.google.com/assets/colab-badge.svg\" alt=\"Open In Colab\"/></a>"
      ]
    },
    {
      "cell_type": "code",
      "execution_count": 3,
      "metadata": {
        "colab": {
          "base_uri": "https://localhost:8080/"
        },
        "id": "DPbxHFkjK2y_",
        "outputId": "e2a2ce9e-be64-4318-e212-e0586cc15259"
      },
      "outputs": [
        {
          "output_type": "stream",
          "name": "stdout",
          "text": [
            "Epoch 1/10\n",
            "300/300 - 44s - loss: 0.3600 - accuracy: 0.8902 - val_loss: 0.0743 - val_accuracy: 0.9770 - 44s/epoch - 146ms/step\n",
            "Epoch 2/10\n",
            "300/300 - 43s - loss: 0.1073 - accuracy: 0.9679 - val_loss: 0.0440 - val_accuracy: 0.9861 - 43s/epoch - 144ms/step\n",
            "Epoch 3/10\n",
            "300/300 - 43s - loss: 0.0746 - accuracy: 0.9783 - val_loss: 0.0330 - val_accuracy: 0.9891 - 43s/epoch - 143ms/step\n",
            "Epoch 4/10\n",
            "300/300 - 43s - loss: 0.0621 - accuracy: 0.9815 - val_loss: 0.0285 - val_accuracy: 0.9915 - 43s/epoch - 143ms/step\n",
            "Epoch 5/10\n",
            "300/300 - 43s - loss: 0.0538 - accuracy: 0.9844 - val_loss: 0.0263 - val_accuracy: 0.9916 - 43s/epoch - 143ms/step\n",
            "Epoch 6/10\n",
            "300/300 - 42s - loss: 0.0466 - accuracy: 0.9863 - val_loss: 0.0251 - val_accuracy: 0.9916 - 42s/epoch - 140ms/step\n",
            "Epoch 7/10\n",
            "300/300 - 43s - loss: 0.0392 - accuracy: 0.9882 - val_loss: 0.0237 - val_accuracy: 0.9924 - 43s/epoch - 143ms/step\n",
            "Epoch 8/10\n",
            "300/300 - 43s - loss: 0.0372 - accuracy: 0.9884 - val_loss: 0.0225 - val_accuracy: 0.9924 - 43s/epoch - 143ms/step\n",
            "Epoch 9/10\n",
            "300/300 - 43s - loss: 0.0323 - accuracy: 0.9900 - val_loss: 0.0211 - val_accuracy: 0.9929 - 43s/epoch - 143ms/step\n",
            "Epoch 10/10\n",
            "300/300 - 42s - loss: 0.0287 - accuracy: 0.9915 - val_loss: 0.0203 - val_accuracy: 0.9935 - 42s/epoch - 142ms/step\n",
            "Test accuracy: 99.35%\n"
          ]
        }
      ],
      "source": [
        "import tensorflow as tf\n",
        "from tensorflow.keras.datasets import mnist\n",
        "from tensorflow.keras.models import Sequential\n",
        "from tensorflow.keras.layers import Conv2D, MaxPooling2D, Flatten, Dense, Dropout\n",
        "from tensorflow.keras.utils import to_categorical\n",
        "# Load and preprocess the dataset\n",
        "(x_train, y_train), (x_test, y_test) = mnist.load_data()\n",
        "x_train = x_train.reshape(x_train.shape[0], 28, 28, 1).astype('float32') / 255\n",
        "x_test = x_test.reshape(x_test.shape[0], 28, 28, 1).astype('float32') / 255\n",
        "y_train = to_categorical(y_train, 10)\n",
        "y_test = to_categorical(y_test, 10)\n",
        "# Build the CNN model\n",
        "model = Sequential()\n",
        "model.add(Conv2D(32, kernel_size=(3, 3), activation='relu',\n",
        "input_shape=(28, 28, 1)))\n",
        "model.add(MaxPooling2D(pool_size=(2, 2)))\n",
        "model.add(Conv2D(64, kernel_size=(3, 3), activation='relu'))\n",
        "model.add(MaxPooling2D(pool_size=(2, 2)))\n",
        "model.add(Flatten())\n",
        "model.add(Dense(128, activation='relu'))\n",
        "model.add(Dropout(0.5))\n",
        "model.add(Dense(10, activation='softmax'))\n",
        "# Compile the model\n",
        "model.compile(loss='categorical_crossentropy', optimizer='adam',\n",
        "metrics=['accuracy'])\n",
        "# Train the model\n",
        "model.fit(x_train, y_train, validation_data=(x_test, y_test), epochs=10,\n",
        "batch_size=200, verbose=2)\n",
        "# Evaluate the model\n",
        "test_loss, test_acc = model.evaluate(x_test, y_test, verbose=0)\n",
        "print(f'Test accuracy: {test_acc*100:.2f}%')\n"
      ]
    }
  ]
}