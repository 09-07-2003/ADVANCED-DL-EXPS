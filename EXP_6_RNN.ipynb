{
  "nbformat": 4,
  "nbformat_minor": 0,
  "metadata": {
    "colab": {
      "provenance": [],
      "authorship_tag": "ABX9TyPuifoST6keAwT6PCzxrkaL",
      "include_colab_link": true
    },
    "kernelspec": {
      "name": "python3",
      "display_name": "Python 3"
    },
    "language_info": {
      "name": "python"
    }
  },
  "cells": [
    {
      "cell_type": "markdown",
      "metadata": {
        "id": "view-in-github",
        "colab_type": "text"
      },
      "source": [
        "<a href=\"https://colab.research.google.com/github/09-07-2003/ADVANCED-DL-EXPS/blob/main/EXP_6_RNN.ipynb\" target=\"_parent\"><img src=\"https://colab.research.google.com/assets/colab-badge.svg\" alt=\"Open In Colab\"/></a>"
      ]
    },
    {
      "cell_type": "code",
      "execution_count": 1,
      "metadata": {
        "colab": {
          "base_uri": "https://localhost:8080/"
        },
        "id": "Ot-8_5hlJRDk",
        "outputId": "5f42ace4-a2a0-4b9d-bbec-73360dc76b2a"
      },
      "outputs": [
        {
          "output_type": "stream",
          "name": "stdout",
          "text": [
            "Epoch 1/10\n",
            "4/4 [==============================] - 4s 15ms/step - loss: 1.1701\n",
            "Epoch 2/10\n",
            "4/4 [==============================] - 0s 11ms/step - loss: 1.0470\n",
            "Epoch 3/10\n",
            "4/4 [==============================] - 0s 11ms/step - loss: 0.9741\n",
            "Epoch 4/10\n",
            "4/4 [==============================] - 0s 10ms/step - loss: 0.9302\n",
            "Epoch 5/10\n",
            "4/4 [==============================] - 0s 13ms/step - loss: 0.9147\n",
            "Epoch 6/10\n",
            "4/4 [==============================] - 0s 7ms/step - loss: 0.9074\n",
            "Epoch 7/10\n",
            "4/4 [==============================] - 0s 8ms/step - loss: 0.8940\n",
            "Epoch 8/10\n",
            "4/4 [==============================] - 0s 11ms/step - loss: 0.8799\n",
            "Epoch 9/10\n",
            "4/4 [==============================] - 0s 14ms/step - loss: 0.8745\n",
            "Epoch 10/10\n",
            "4/4 [==============================] - 0s 11ms/step - loss: 0.8614\n",
            "1/1 [==============================] - 1s 951ms/step - loss: 0.6372\n"
          ]
        },
        {
          "output_type": "execute_result",
          "data": {
            "text/plain": [
              "0.6371592283248901"
            ]
          },
          "metadata": {},
          "execution_count": 1
        }
      ],
      "source": [
        "import tensorflow as tf\n",
        "from tensorflow import keras\n",
        "input_shape = (10, 1)\n",
        "model = keras.Sequential([\n",
        "    keras.layers.SimpleRNN(32, input_shape=input_shape),\n",
        "    keras.layers.Dense(1)\n",
        "])\n",
        "model.compile(optimizer='adam', loss='mse')\n",
        "import numpy as np\n",
        "\n",
        "X_train = np.random.randn(100, 10, 1)\n",
        "y_train = np.random.randn(100, 1)\n",
        "\n",
        "model.fit(X_train, y_train, epochs=10, batch_size=32)\n",
        "X_test = np.random.randn(10, 10, 1)\n",
        "y_test = np.random.randn(10, 1)\n",
        "\n",
        "model.evaluate(X_test, y_test)\n"
      ]
    }
  ]
}