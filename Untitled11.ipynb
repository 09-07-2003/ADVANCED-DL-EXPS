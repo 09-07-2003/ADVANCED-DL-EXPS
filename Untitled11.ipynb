{
  "nbformat": 4,
  "nbformat_minor": 0,
  "metadata": {
    "colab": {
      "provenance": [],
      "authorship_tag": "ABX9TyMc1E9huMaxwYZFUbW6gADT",
      "include_colab_link": true
    },
    "kernelspec": {
      "name": "python3",
      "display_name": "Python 3"
    },
    "language_info": {
      "name": "python"
    }
  },
  "cells": [
    {
      "cell_type": "markdown",
      "metadata": {
        "id": "view-in-github",
        "colab_type": "text"
      },
      "source": [
        "<a href=\"https://colab.research.google.com/github/09-07-2003/ADVANCED-DL-EXPS/blob/main/Untitled11.ipynb\" target=\"_parent\"><img src=\"https://colab.research.google.com/assets/colab-badge.svg\" alt=\"Open In Colab\"/></a>"
      ]
    },
    {
      "cell_type": "code",
      "execution_count": 1,
      "metadata": {
        "colab": {
          "base_uri": "https://localhost:8080/"
        },
        "id": "sBYqzCr9HH6z",
        "outputId": "e3b60d9e-f09e-4b4e-e5a4-b9b441dd6e38"
      },
      "outputs": [
        {
          "output_type": "stream",
          "name": "stdout",
          "text": [
            "Epoch 1/10\n",
            "20/20 [==============================] - 3s 51ms/step - loss: 0.6494 - accuracy: 0.5234 - val_loss: 0.6200 - val_accuracy: 0.6250\n",
            "Epoch 2/10\n",
            "20/20 [==============================] - 0s 14ms/step - loss: 0.6332 - accuracy: 0.5547 - val_loss: 0.6024 - val_accuracy: 0.6500\n",
            "Epoch 3/10\n",
            "20/20 [==============================] - 0s 19ms/step - loss: 0.6176 - accuracy: 0.6078 - val_loss: 0.5864 - val_accuracy: 0.6687\n",
            "Epoch 4/10\n",
            "20/20 [==============================] - 0s 19ms/step - loss: 0.6010 - accuracy: 0.6594 - val_loss: 0.5696 - val_accuracy: 0.6812\n",
            "Epoch 5/10\n",
            "20/20 [==============================] - 0s 21ms/step - loss: 0.5833 - accuracy: 0.7094 - val_loss: 0.5532 - val_accuracy: 0.7437\n",
            "Epoch 6/10\n",
            "20/20 [==============================] - 0s 23ms/step - loss: 0.5642 - accuracy: 0.7672 - val_loss: 0.5344 - val_accuracy: 0.7750\n",
            "Epoch 7/10\n",
            "20/20 [==============================] - 0s 20ms/step - loss: 0.5432 - accuracy: 0.7875 - val_loss: 0.5147 - val_accuracy: 0.8375\n",
            "Epoch 8/10\n",
            "20/20 [==============================] - 0s 22ms/step - loss: 0.5213 - accuracy: 0.8125 - val_loss: 0.4940 - val_accuracy: 0.8625\n",
            "Epoch 9/10\n",
            "20/20 [==============================] - 0s 25ms/step - loss: 0.4983 - accuracy: 0.8234 - val_loss: 0.4731 - val_accuracy: 0.8687\n",
            "Epoch 10/10\n",
            "20/20 [==============================] - 0s 23ms/step - loss: 0.4752 - accuracy: 0.8453 - val_loss: 0.4532 - val_accuracy: 0.8813\n",
            "7/7 [==============================] - 0s 12ms/step\n",
            "Test accuracy: 0.8650\n"
          ]
        }
      ],
      "source": [
        "import numpy as np\n",
        "import tensorflow as tf\n",
        "from tensorflow.keras.models import Sequential\n",
        "from tensorflow.keras.layers import Dense,Input\n",
        "from sklearn.model_selection import train_test_split\n",
        "from sklearn.metrics import accuracy_score\n",
        "np.random.seed(42)\n",
        "X = np.random.rand(1000, 2)\n",
        "y = (X[:, 0] + X[:, 1] > 1).astype(int)\n",
        "X_train, X_test, y_train, y_test = train_test_split(X, y, test_size=0.2,\n",
        "random_state=42)\n",
        "model = Sequential([Input(shape=(2)),Dense(64, activation='relu'),Dense(1,\n",
        "activation='sigmoid')])\n",
        "model.compile(optimizer='adam',loss='binary_crossentropy',metrics=['accuracy'])\n",
        "model.fit(X_train, y_train, epochs=10, batch_size=32, validation_split=0.2)\n",
        "y_pred = model.predict(X_test)\n",
        "y_pred_binary = (y_pred > 0.5).astype(int)\n",
        "test_accuracy = accuracy_score(y_test, y_pred_binary)\n",
        "print(f\"Test accuracy: {test_accuracy:.4f}\")\n"
      ]
    }
  ]
}